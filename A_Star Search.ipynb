{
 "cells": [
  {
   "cell_type": "markdown",
   "id": "dceb5f2b",
   "metadata": {},
   "source": [
    "# A* Search"
   ]
  },
  {
   "cell_type": "code",
   "execution_count": 1,
   "id": "4dd1469f",
   "metadata": {},
   "outputs": [],
   "source": [
    "import heapq\n",
    "def a_start_search(graph,heuristic,start_node,goal_node):\n",
    "    def h(node):\n",
    "        return heuristic[node]\n",
    "    def f(node):\n",
    "        return node['path_cost']+h(node['state'])\n",
    "    def child_node(parent,state,path_cost):\n",
    "        return {'parent':parent,'state':state,'path_cost':path_cost}\n",
    "    frontier=[]\n",
    "    explored=[]\n",
    "    initial_node=child_node(None,start_node,0)\n",
    "    initial_node['path_cost']=h(initial_node['state'])\n",
    "    heapq.heappush(frontier,(f(initial_node),initial_node))\n",
    "    while frontier:\n",
    "        _,node=heapq.heappop(frontier)\n",
    "        if node['state']==goal_node:\n",
    "            print_solution(node)\n",
    "            return\n",
    "        explored.append(node['state'])\n",
    "        for neighbor,cost in graph[node['state']].items():\n",
    "            child_path_cost=node['path_cost']-h(node['state'])+cost\n",
    "            child=child_node(node,neighbor,child_path_cost)\n",
    "            if child['state'] not in explored:\n",
    "                heapq.heappush(frontier,(f(child),child))\n",
    "    print(\"No Solution\")\n",
    "def print_solution(node):\n",
    "    path=[]\n",
    "    while node is not None:\n",
    "        path.insert(0,node['state'])\n",
    "        node=node['parent']\n",
    "    print(' -> '.join(path))"
   ]
  },
  {
   "cell_type": "code",
   "execution_count": 2,
   "id": "83476f5a",
   "metadata": {},
   "outputs": [
    {
     "name": "stdout",
     "output_type": "stream",
     "text": [
      "a -> s -> r -> p -> b\n"
     ]
    }
   ],
   "source": [
    "g = {\n",
    "    'o': {'z': 71, 's': 151},\n",
    "    'z': {'o': 71, 'a': 75},\n",
    "    'a': {'z': 75, 't': 118, 's': 140},\n",
    "    't': {'a': 118, 'l': 111},\n",
    "    'l': {'t': 111, 'm': 70},\n",
    "    'm': {'l': 70, 'd': 75},\n",
    "    'd': {'m': 75, 'c': 120},\n",
    "    'c': {'d': 120, 'r': 146, 'p': 138},\n",
    "    'r': {'c': 146, 's': 80, 'p': 97},\n",
    "    's': {'r': 80, 'a': 140, 'o': 151, 'f': 99},\n",
    "    'f': {'s': 99, 'b': 211},\n",
    "    'p': {'r': 97, 'b': 101},\n",
    "    'b': {'f': 211, 'g': 90},\n",
    "    'g': {'b': 90}\n",
    "}\n",
    "\n",
    "h = {\n",
    "    'a': 366,'b': 0,'c': 160,'d': 242,'l': 244,'m': 241,'o': 380,'p': 100,'r': 193,'s': 253,'t': 329,'z': 374,\n",
    "    'f': 176,'g': 77,}\n",
    "\n",
    "start_node = 'a'\n",
    "goal_node = 'b'\n",
    "a_start_search(g,h,start_node,goal_node)"
   ]
  },
  {
   "cell_type": "code",
   "execution_count": null,
   "id": "63937a72",
   "metadata": {},
   "outputs": [],
   "source": []
  }
 ],
 "metadata": {
  "kernelspec": {
   "display_name": "Python 3 (ipykernel)",
   "language": "python",
   "name": "python3"
  },
  "language_info": {
   "codemirror_mode": {
    "name": "ipython",
    "version": 3
   },
   "file_extension": ".py",
   "mimetype": "text/x-python",
   "name": "python",
   "nbconvert_exporter": "python",
   "pygments_lexer": "ipython3",
   "version": "3.9.12"
  }
 },
 "nbformat": 4,
 "nbformat_minor": 5
}
